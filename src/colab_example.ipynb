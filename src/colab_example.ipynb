{
  "nbformat": 4,
  "nbformat_minor": 0,
  "metadata": {
    "colab": {
      "name": "spacy_ner_rule_v2.ipynb",
      "provenance": [],
      "collapsed_sections": [],
      "toc_visible": true,
      "machine_shape": "hm",
      "include_colab_link": true
    },
    "kernelspec": {
      "display_name": "Python 3",
      "language": "python",
      "name": "python3"
    },
    "language_info": {
      "codemirror_mode": {
        "name": "ipython",
        "version": 3
      },
      "file_extension": ".py",
      "mimetype": "text/x-python",
      "name": "python",
      "nbconvert_exporter": "python",
      "pygments_lexer": "ipython3",
      "version": "3.7.9"
    }
  },
  "cells": [
    {
      "cell_type": "markdown",
      "metadata": {
        "id": "view-in-github",
        "colab_type": "text"
      },
      "source": [
        "<a href=\"https://colab.research.google.com/github/OmdenaAI/RebootRx/blob/main/src/colab_example.ipynb\" target=\"_parent\"><img src=\"https://colab.research.google.com/assets/colab-badge.svg\" alt=\"Open In Colab\"/></a>"
      ]
    },
    {
      "cell_type": "markdown",
      "metadata": {
        "id": "hVLk2BI-ZkhP"
      },
      "source": [
        "# Using the local package in colab"
      ]
    },
    {
      "cell_type": "code",
      "metadata": {
        "id": "kn_iB31bRCBX"
      },
      "source": [
        "# get CUDA version (if using GPU)\n",
        "!nvidia-smi | grep -oP '(?<=CUDA Version: )(\\d*\\.\\d*)'"
      ],
      "execution_count": null,
      "outputs": []
    },
    {
      "cell_type": "code",
      "metadata": {
        "id": "NX4Ntq8WRIAQ"
      },
      "source": [
        "from getpass import getpass\n",
        "import os\n",
        "\n",
        "os.environ['GIT_USER'] = input('Enter the user of your GitHub account: ')\n",
        "os.environ['PASSWORD'] = getpass('Enter the password (or PAT if 2FA is enabled) of your GitHub account: ')\n",
        "os.environ['GIT_AUTH'] = os.environ['GIT_USER'] + ':' + os.environ['PASSWORD']\n",
        "\n",
        "print('Start installing git repo...')\n",
        "!pip install git+https://$GIT_AUTH@github.com/OmdenaAI/RebootRx.git@main > /dev/null\n",
        "\n",
        "print('Package installed. Clear sensitive data...')\n",
        "os.environ['PASSWORD'] = os.environ['GIT_AUTH'] = \"\""
      ],
      "execution_count": null,
      "outputs": []
    },
    {
      "cell_type": "code",
      "metadata": {
        "id": "Cz02JiZbGNJN"
      },
      "source": [
        "%%bash\n",
        "pip install seqeval > /dev/null\n",
        "echo \"Done!\""
      ],
      "execution_count": null,
      "outputs": []
    },
    {
      "cell_type": "code",
      "metadata": {
        "id": "7cCEhOSD4UO3"
      },
      "source": [
        "import os\n",
        "import warnings\n",
        "from datetime import datetime\n",
        "\n",
        "from google.colab import drive\n",
        "import matplotlib.pyplot as plt\n",
        "import pandas as pd\n",
        "from src.data_utils import ner\n",
        "from src.model_utils import spacy_ner\n",
        "from src import data_utils\n",
        "from tqdm import tqdm\n",
        "\n",
        "tqdm.pandas()\n",
        "drive.mount('/content/drive')\n",
        "\n",
        "ANNOTATIONS_PATH = \"/content/drive/MyDrive/RebootRx/Official Folder of Reboot Rx Challenge/Task1 - Annotation/Final_datsets/RCT_Annotations_Final.csv\"\n",
        "MODEL_DIRPATH = \"/content/drive/MyDrive/RebootRx/Official Folder of Reboot Rx Challenge/TASK3-MODELING/models/\""
      ],
      "execution_count": null,
      "outputs": []
    },
    {
      "cell_type": "code",
      "metadata": {
        "id": "6lV2CKOAJ61_"
      },
      "source": [
        "data = pd.read_csv(ANNOTATIONS_PATH)\n",
        "data.info()"
      ],
      "execution_count": null,
      "outputs": []
    },
    {
      "cell_type": "code",
      "metadata": {
        "id": "BrlUe-0mXkCM"
      },
      "source": [
        "data = data_utils.labelbox(data)\n",
        "data.head()"
      ],
      "execution_count": null,
      "outputs": []
    },
    {
      "cell_type": "code",
      "metadata": {
        "id": "yW1vrA0OiUR4"
      },
      "source": [
        "nlp = spacy_ner.create_blank_nlp(data[\"annotations\"]) # specifying the tokenizer makes it much faster\n",
        "\n",
        "# create a new column with zipped data and create TaggedCorpus object\n",
        "data[\"tagged_corpus\"] = pd.Series(zip(data[\"text\"], data[\"annotations\"]))\n",
        "data[\"tagged_corpus\"] = data[\"tagged_corpus\"].progress_apply(\n",
        "    lambda x: ner.TaggedCorpus(text=x[0], annotations=x[1], tokenizer=nlp.tokenizer)\n",
        ")\n",
        "data.head()"
      ],
      "execution_count": null,
      "outputs": []
    },
    {
      "cell_type": "markdown",
      "metadata": {
        "id": "sLKzq_trYQXi"
      },
      "source": [
        "## Modeling\n",
        "\n",
        "Use your model here!"
      ]
    },
    {
      "cell_type": "code",
      "metadata": {
        "id": "aZaMSRTwjgT1"
      },
      "source": [
        "_df = data.copy()\n",
        "train = _df.sample(frac=0.9, random_state=42)\n",
        "val = _df[~_df.index.isin(train.index)]"
      ],
      "execution_count": null,
      "outputs": []
    },
    {
      "cell_type": "markdown",
      "metadata": {
        "id": "Bxnre0xbQ6Ts"
      },
      "source": [
        "## Evaluate\n",
        "\n",
        "Use [seqeval](https://github.com/chakki-works/seqeval) for evaluation"
      ]
    },
    {
      "cell_type": "code",
      "metadata": {
        "id": "yz6nO7LbQ6Tt"
      },
      "source": [
        "from seqeval.metrics import (\n",
        "    accuracy_score,\n",
        "    classification_report,\n",
        "    f1_score,\n",
        "    performance_measure,\n",
        "    precision_score,\n",
        "    recall_score,\n",
        ")\n"
      ],
      "execution_count": null,
      "outputs": []
    },
    {
      "cell_type": "code",
      "metadata": {
        "id": "0c_WIRZYQ6Tt"
      },
      "source": [
        "# generate docs from validation set\n",
        "docs_true = val.docs.to_list()\n",
        "\n",
        "# generate iob list of tags from validation set\n",
        "y_true = [ner.doc2ents(doc) for doc in docs_true]\n",
        "\n",
        "# get the list of predictions from your model (`y_pred`) and run the evaluation below"
      ],
      "execution_count": null,
      "outputs": []
    },
    {
      "cell_type": "code",
      "metadata": {
        "id": "uMeNB9PMQ6Tu"
      },
      "source": [
        "print(classification_report(list(y_true), list(y_pred)))"
      ],
      "execution_count": null,
      "outputs": []
    },
    {
      "cell_type": "markdown",
      "metadata": {
        "id": "RNhYw6Paknvn"
      },
      "source": [
        "### Log metrics, hyperparameters and models"
      ]
    },
    {
      "cell_type": "code",
      "metadata": {
        "id": "Gc2Fv8FkAhBk"
      },
      "source": [
        "from dagshub import dagshub_logger\n",
        "\n",
        "metrics = {\n",
        "    \"loss\": training_loss[-1],\n",
        "    \"loss_val\": validation_loss[-1],\n",
        "    \"accuracy\": accuracy_score(y_true, y_pred),\n",
        "    \"precision\": precision_score(y_true, y_pred),\n",
        "    \"recall\": recall_score(y_true, y_pred),\n",
        "    \"f1\": f1_score(y_true, y_pred),\n",
        "    \"class_report\": classification_report(list(y_true), list(y_pred), output_dict=True),\n",
        "    **performance_measure(y_true, y_pred),\n",
        "}\n",
        "hp = {\n",
        "    \"lib\": \"'spacy_ner'\",\n",
        "    \"n_epochs\": n_epochs,\n",
        "    \"dropout\": dropout,\n",
        "    \"n_train\": len(train),\n",
        "    \"n_test\": len(val),\n",
        "}\n",
        "\n",
        "\n",
        "with dagshub_logger(\n",
        "    metrics_path=YOUR_METRICS_PATH,\n",
        "    hparams_path=YOUR_HYPERPARAMS_PATH,\n",
        ") as logger:\n",
        "    # Metrics:\n",
        "    logger.log_metrics(metrics)\n",
        "\n",
        "    # Hyperparameters:\n",
        "    logger.log_hyperparams(hp)"
      ],
      "execution_count": null,
      "outputs": []
    },
    {
      "cell_type": "code",
      "metadata": {
        "id": "_P2pTdRZQ6Tu"
      },
      "source": [
        "if not os.path.exists(MODEL_PATH):\n",
        "    os.makedirs(MODEL_PATH)\n",
        "model.save_to(MODEL_PATH) # this is model-variant\n",
        "print(\"Saved model to\", MODEL_PATH)\n",
        "\n",
        "# # to load\n",
        "# # model = spacy.load('model_name')"
      ],
      "execution_count": null,
      "outputs": []
    }
  ]
}